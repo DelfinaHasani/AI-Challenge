{
 "cells": [
  {
   "cell_type": "markdown",
   "id": "b47c2fdd",
   "metadata": {},
   "source": [
    "# AI Internship Challenge – Text Classification\n",
    "# Author: Delfine Hasani\n",
    "\n"
   ]
  },
  {
   "cell_type": "code",
   "execution_count": 1,
   "id": "9a9ef64d",
   "metadata": {},
   "outputs": [
    {
     "name": "stderr",
     "output_type": "stream",
     "text": [
      "[nltk_data] Downloading package stopwords to\n",
      "[nltk_data]     C:\\Users\\Admin\\AppData\\Roaming\\nltk_data...\n",
      "[nltk_data]   Package stopwords is already up-to-date!\n"
     ]
    }
   ],
   "source": [
    "# I. Data Wrangling (Preparing the Data)\n",
    "\n",
    "# Data Acquisition\n",
    "\n",
    "\n",
    "import pandas as pd\n",
    "import numpy as np\n",
    "import matplotlib.pyplot as plt\n",
    "import seaborn as sns\n",
    "import re\n",
    "import nltk\n",
    "\n",
    "from sklearn.feature_extraction.text import TfidfVectorizer\n",
    "from sklearn.model_selection import train_test_split\n",
    "from sklearn.naive_bayes import MultinomialNB\n",
    "from sklearn.linear_model import LogisticRegression\n",
    "from sklearn.metrics import classification_report, confusion_matrix\n",
    "\n",
    "nltk.download('stopwords')\n",
    "from nltk.corpus import stopwords\n",
    "stop_words = set(stopwords.words('english'))\n"
   ]
  },
  {
   "cell_type": "code",
   "execution_count": 22,
   "id": "3d2a9f7e",
   "metadata": {},
   "outputs": [
    {
     "name": "stdout",
     "output_type": "stream",
     "text": [
      "Saved merged dataset as ag_news_full.csv with shape: (127600, 3)\n"
     ]
    }
   ],
   "source": [
    "# Load dataset\n",
    "import pandas as pd\n",
    "\n",
    "#Because the dataset I used was split in two files; train and test, I merged them into one single csv for later use\n",
    "\n",
    "# Load train and test, skip the first row (which contains text headers)\n",
    "train_df = pd.read_csv(\"train.csv\", header=None, skiprows=1)\n",
    "test_df = pd.read_csv(\"test.csv\", header=None, skiprows=1)\n",
    "\n",
    "# Add column names\n",
    "train_df.columns = [\"label\", \"title\", \"description\"]\n",
    "test_df.columns = [\"label\", \"title\", \"description\"]\n",
    "\n",
    "# Merge them\n",
    "df = pd.concat([train_df, test_df], ignore_index=True)\n",
    "\n",
    "# Save as single CSV\n",
    "df.to_csv(\"ag_news_full.csv\", index=False)\n",
    "\n",
    "print(\"Saved merged dataset as ag_news_full.csv with shape:\", df.shape)\n"
   ]
  },
  {
   "cell_type": "code",
   "execution_count": 23,
   "id": "d594a9c5",
   "metadata": {},
   "outputs": [],
   "source": [
    "df = pd.read_csv(\"ag_news_full.csv\")\n",
    "# I picked AG News because it has multiple categories and enough samples for training."
   ]
  },
  {
   "cell_type": "code",
   "execution_count": 24,
   "id": "fa038ca3",
   "metadata": {},
   "outputs": [
    {
     "name": "stdout",
     "output_type": "stream",
     "text": [
      "   label                                              title  \\\n",
      "0      3  Wall St. Bears Claw Back Into the Black (Reuters)   \n",
      "1      3  Carlyle Looks Toward Commercial Aerospace (Reu...   \n",
      "2      3    Oil and Economy Cloud Stocks' Outlook (Reuters)   \n",
      "3      3  Iraq Halts Oil Exports from Main Southern Pipe...   \n",
      "4      3  Oil prices soar to all-time record, posing new...   \n",
      "\n",
      "                                         description  \n",
      "0  Reuters - Short-sellers, Wall Street's dwindli...  \n",
      "1  Reuters - Private investment firm Carlyle Grou...  \n",
      "2  Reuters - Soaring crude prices plus worries\\ab...  \n",
      "3  Reuters - Authorities have halted oil export\\f...  \n",
      "4  AFP - Tearaway world oil prices, toppling reco...  \n",
      "<class 'pandas.core.frame.DataFrame'>\n",
      "RangeIndex: 127600 entries, 0 to 127599\n",
      "Data columns (total 3 columns):\n",
      " #   Column       Non-Null Count   Dtype \n",
      "---  ------       --------------   ----- \n",
      " 0   label        127600 non-null  int64 \n",
      " 1   title        127600 non-null  object\n",
      " 2   description  127600 non-null  object\n",
      "dtypes: int64(1), object(2)\n",
      "memory usage: 2.9+ MB\n",
      "None\n",
      "               label\n",
      "count  127600.000000\n",
      "mean        2.500000\n",
      "std         1.118038\n",
      "min         1.000000\n",
      "25%         1.750000\n",
      "50%         2.500000\n",
      "75%         3.250000\n",
      "max         4.000000\n"
     ]
    }
   ],
   "source": [
    "# Inspect the data\n",
    "print(df.head()) # shows the first 5 rows of the dataframe\n",
    "print(df.info()) # shows the number of rows and column, column names, data types, non-null values...\n",
    "print(df.describe()) #statistics: count, mean, min, max, quartiles ..."
   ]
  },
  {
   "cell_type": "code",
   "execution_count": 25,
   "id": "59bc1fd5",
   "metadata": {},
   "outputs": [],
   "source": [
    "# Data Cleaning / Preprocessing\n",
    "\n",
    "\n",
    "def clean_text(text):\n",
    "    text = text.lower() # lowercase all text\n",
    "    text = re.sub(r\"[^a-z\\s]\", \"\", text)  # remove punctuation/numbers\n",
    "    tokens = text.split()\n",
    "    tokens = [w for w in tokens if w not in stop_words]\n",
    "    return \" \".join(tokens)\n",
    "\n",
    " # Create a new text column by merging title + description\n",
    "df['text'] = df['title'] + \" \" + df['description']\n",
    "\n",
    "# Now clean it\n",
    "df['clean_text'] = df['text'].apply(clean_text)\n",
    "   \n"
   ]
  },
  {
   "cell_type": "markdown",
   "id": "60afff10",
   "metadata": {},
   "source": [
    "# II. # Exploratory Data Analysis (EDA)"
   ]
  },
  {
   "cell_type": "code",
   "execution_count": 26,
   "id": "d1807729",
   "metadata": {},
   "outputs": [
    {
     "data": {
      "image/png": "[encoded data removed]",
      "text/plain": [
       "<Figure size 640x480 with 1 Axes>"
      ]
     },
     "metadata": {},
     "output_type": "display_data"
    }
   ],
   "source": [
    "# Distribution of categories\n",
    "\n",
    "# Ensure labels are integers\n",
    "df[\"label\"] = df[\"label\"].astype(int)\n",
    "\n",
    "# Map numeric labels to names\n",
    "label_map = {1: \"World\", 2: \"Sports\", 3: \"Business\", 4: \"Sci/Tech\"}\n",
    "df[\"category\"] = df[\"label\"].map(label_map)\n",
    "\n",
    "# Plot again\n",
    "df[\"category\"].value_counts().plot(kind=\"bar\", color=\"skyblue\")\n",
    "plt.title(\"Samples per Category\")\n",
    "plt.xlabel(\"Category\")\n",
    "plt.ylabel(\"Count\")\n",
    "plt.show()\n",
    "\n"
   ]
  },
  {
   "cell_type": "code",
   "execution_count": null,
   "id": "13901115",
   "metadata": {},
   "outputs": [],
   "source": [
    "# Feature Engineering (TF-IDF)\n",
    "\n",
    "vectorizer = TfidfVectorizer(max_features=5000, \n",
    "ngram_range(1,2),  # include unigrams + bigrams\n",
    "stop_words='english') # remove common words\n",
    "\n",
    "X = vectorizer.fit_transform(df['clean_text'])\n",
    "\n",
    "y = df['label'] \n"
   ]
  },
  {
   "cell_type": "code",
   "execution_count": null,
   "id": "137dac94",
   "metadata": {},
   "outputs": [],
   "source": [
    "# Splitting the data into train-test\n",
    "# 80% of the data for training and the remaining 20% for testing\n",
    "\n",
    "X_train, X_test, y_train, y_test = train_test_split(\n",
    "    X, y, test_size=0.2, random_state=42\n",
    ")\n"
   ]
  },
  {
   "cell_type": "code",
   "execution_count": 29,
   "id": "458db97a",
   "metadata": {},
   "outputs": [],
   "source": [
    "# Model Training (Naive Bayes vs Logistic Regression)\n",
    "\n",
    "# Naive Bayes\n",
    "nb_model = MultinomialNB()\n",
    "nb_model.fit(X_train, y_train)\n",
    "nb_preds = nb_model.predict(X_test)\n",
    "\n",
    "# Logistic Regression\n",
    "lr_model = LogisticRegression(max_iter=1000)\n",
    "lr_model.fit(X_train, y_train)\n",
    "lr_preds = lr_model.predict(X_test)\n"
   ]
  },
  {
   "cell_type": "code",
   "execution_count": 30,
   "id": "7332c31c",
   "metadata": {},
   "outputs": [
    {
     "name": "stdout",
     "output_type": "stream",
     "text": [
      "Naive Bayes Performance:\n",
      "\n",
      "              precision    recall  f1-score   support\n",
      "\n",
      "           1       0.90      0.88      0.89      6283\n",
      "           2       0.94      0.98      0.96      6466\n",
      "           3       0.86      0.85      0.86      6370\n",
      "           4       0.87      0.86      0.87      6401\n",
      "\n",
      "    accuracy                           0.89     25520\n",
      "   macro avg       0.89      0.89      0.89     25520\n",
      "weighted avg       0.89      0.89      0.89     25520\n",
      "\n",
      "Logistic Regression Performance:\n",
      "\n",
      "              precision    recall  f1-score   support\n",
      "\n",
      "           1       0.92      0.89      0.90      6283\n",
      "           2       0.95      0.98      0.96      6466\n",
      "           3       0.87      0.88      0.88      6370\n",
      "           4       0.88      0.88      0.88      6401\n",
      "\n",
      "    accuracy                           0.91     25520\n",
      "   macro avg       0.91      0.91      0.91     25520\n",
      "weighted avg       0.91      0.91      0.91     25520\n",
      "\n"
     ]
    }
   ],
   "source": [
    "# Model Evaluation\n",
    "\n",
    "print(\"Naive Bayes Performance:\\n\")\n",
    "print(classification_report(y_test, nb_preds))\n",
    "\n",
    "print(\"Logistic Regression Performance:\\n\")\n",
    "print(classification_report(y_test, lr_preds))\n"
   ]
  },
  {
   "cell_type": "code",
   "execution_count": null,
   "id": "0b2c11f6",
   "metadata": {},
   "outputs": [],
   "source": [
    "# Observations:\n",
    "# - Both models perform well, but Logistic Regression outperforms Naive Bayes overall with ~91% accuracy compared to ~89% for Naive Bayes.\n",
    "# - Category 2 (Sports) has the highest recall in both models (~98%), meaning the classifier almost never misses sports-related news.\n",
    "# - Categories 3 (Business) and 4 (Sci/Tech) are slightly harder for the models, with lower precision/recall compared to World and Sports.\n",
    "# - Logistic Regression seems more balanced across all categories, while Naive Bayes struggles more with Business and Sci/Tech.\n",
    "# - Given the dataset is fairly balanced, accuracy and macro F1-scores are reliable metrics.\n",
    "# - Final choice: Logistic Regression is the better model here due to higher and more consistent scores across classes.\n"
   ]
  },
  {
   "cell_type": "code",
   "execution_count": 31,
   "id": "85d51797",
   "metadata": {},
   "outputs": [
    {
     "data": {
      "image/png": "[encoded data removed]",
      "text/plain": [
       "<Figure size 640x480 with 2 Axes>"
      ]
     },
     "metadata": {},
     "output_type": "display_data"
    }
   ],
   "source": [
    "# Confusion Matrix (for one model):\n",
    "\n",
    "cm = confusion_matrix(y_test, lr_preds)\n",
    "sns.heatmap(cm, annot=True, fmt=\"d\", cmap=\"Blues\")\n",
    "plt.title(\"Confusion Matrix - Logistic Regression\")\n",
    "plt.show()\n"
   ]
  },
  {
   "cell_type": "code",
   "execution_count": null,
   "id": "77b616ae",
   "metadata": {},
   "outputs": [],
   "source": [
    "# Looking at the confusion matrix:\n",
    "# - Most predictions are correct (dark diagonal).\n",
    "# - Sports is super clean, barely any mistakes.\n",
    "# - The tricky part is Business vs Sci/Tech – the model mixes those up quite a bit, which actually makes sense because news about \"tech companies\" overlaps.\n",
    "# - World news is also solid, just a few slips into Business.\n",
    "# - Overall, the model is doing a good job, with most errors happening where you'd expect.\n"
   ]
  },
  {
   "cell_type": "code",
   "execution_count": 36,
   "id": "9043c595",
   "metadata": {},
   "outputs": [
    {
     "name": "stdout",
     "output_type": "stream",
     "text": [
      "Sports\n",
      "Sci/Tech\n"
     ]
    }
   ],
   "source": [
    "# Prediction Script\n",
    "\n",
    "label_map = {1: \"World\", 2: \"Sports\", 3: \"Business\", 4: \"Sci/Tech\"}\n",
    "\n",
    "def predict_category(text, model=lr_model):\n",
    "    clean = clean_text(text)\n",
    "    vec = vectorizer.transform([clean])\n",
    "    pred_label = model.predict(vec)[0]\n",
    "    return label_map[pred_label]   # return category name instead of number\n",
    "\n",
    "# Example predictions\n",
    "print(predict_category(\"Cristiano Ronaldo signed with F.C.Barcelona\"))\n",
    "print(predict_category(\"Apple releases new Iphone 17 with outstanding features\"))\n"
   ]
  },
  {
   "cell_type": "code",
   "execution_count": 38,
   "id": "f4c86ea2",
   "metadata": {},
   "outputs": [
    {
     "data": {
      "text/plain": [
       "['vectorizer.pkl']"
      ]
     },
     "execution_count": 38,
     "metadata": {},
     "output_type": "execute_result"
    }
   ],
   "source": [
    "import joblib\n",
    "joblib.dump(lr_model, \"model.pkl\")\n",
    "joblib.dump(vectorizer, \"vectorizer.pkl\")\n"
   ]
  }
 ],
 "metadata": {
  "kernelspec": {
   "display_name": "Python 3",
   "language": "python",
   "name": "python3"
  },
  "language_info": {
   "codemirror_mode": {
    "name": "ipython",
    "version": 3
   },
   "file_extension": ".py",
   "mimetype": "text/x-python",
   "name": "python",
   "nbconvert_exporter": "python",
   "pygments_lexer": "ipython3",
   "version": "3.13.5"
  }
 },
 "nbformat": 4,
 "nbformat_minor": 5
}
